{
 "cells": [
  {
   "cell_type": "code",
   "execution_count": 245,
   "metadata": {
    "collapsed": false
   },
   "outputs": [
    {
     "name": "stdout",
     "output_type": "stream",
     "text": [
      "The autoreload extension is already loaded. To reload it, use:\n",
      "  %reload_ext autoreload\n"
     ]
    }
   ],
   "source": [
    "%load_ext autoreload\n",
    "%autoreload 2\n",
    "\n",
    "# - - - - - - - - - - - - - - - - - - - \n",
    "import EstrategiaParticionado as ep\n",
    "import Datos as datos\n",
    "import Clasificador as cl\n",
    "# - - - - - - - - - - - - - - - - - - - \n",
    "\n",
    "import sklearn\n",
    "from sklearn.model_selection import train_test_split\n",
    "from sklearn.naive_bayes import GaussianNB\n",
    "from sklearn import preprocessing\n",
    "import numpy as np\n",
    "\n",
    "datasetGerman = datos.Datos(nombreFichero=\"../datos/german.data\")\n",
    "datasetBalloons = datos.Datos(nombreFichero=\"../datos/balloons.data\")\n",
    "datasetTicTacToe = datos.Datos(nombreFichero=\"../datos/tic-tac-toe.data\")\n"
   ]
  },
  {
   "cell_type": "markdown",
   "metadata": {},
   "source": [
    "# APARTADO 1\n",
    "### Estrategia Particionado (Validacion Simple)"
   ]
  },
  {
   "cell_type": "code",
   "execution_count": 250,
   "metadata": {
    "collapsed": false,
    "scrolled": true
   },
   "outputs": [
    {
     "name": "stdout",
     "output_type": "stream",
     "text": [
      " - - - - - - - Particionado Simple (balloons.data) - - - - - - - \n",
      "Indices Train: [ 6  8 19  0  1 16  9 12 17 18  3  7 10 11]\n",
      "Indices Test: [ 2 15 13  5  4 14]\n",
      "\n",
      "- - - - - - - Particionado Simple (tic-tac-toe.data) - - - - - - - \n",
      "Indices Train: [717  94 634 411  77 315 761 841 357 929 135 710 413 353 178 666 137 884\n",
      " 253 330  40 405 618 360 703  70 704 409 716 754 484  25 680 669 877 245\n",
      " 815  49 865 547 608 106 938 572 161 394 544 626 288  53 585 627 378 190\n",
      " 822 645 482 173 850 561 542 465  45 869 726 737 349 862 533 916 772 246\n",
      " 609 396 381 599 184 516 481 226 303 709 296  56 196 125 951 919 914 934\n",
      " 132 921 181 948 687 596 256 170  20 437 649 213 434 799 290 713 895 444\n",
      " 250 424 928 749 725  43 778  16 463 786 306 120 263 711 558 523 894 843\n",
      " 545 700 114 252 735 297 447 379 679 422 197 148 154 748  27 123 507  62\n",
      " 832 848 389 272 417 212 491 874 883 386 828 210  36 823 783  73 923 745\n",
      " 871 672 423 715 506 375 899 195 639  38 219 108  81 859 182 192  71  54\n",
      " 856 751 151 138 127 382 203 686 155 528  46 849 299 956 351 355 180 370\n",
      " 688 175 565 835  63 312 362 536 453 797 920 795 385 113 366 322 432 412\n",
      " 445 868  96  86 440 753 149 115 838 548 535 495 697 515 433 352 416 866\n",
      " 289 364 278 590 882   8 784  99 654 334 214 696 569 371 570 254 426 803\n",
      " 230 624 218 720 488 406 845 888 467 275 436 486 126 518  60 208  34 211\n",
      " 798 860 844 474   5 578 538 179 574 731 873 898 105 359 199 693  12 519\n",
      " 878 317 468 653 309 636 427 239 380  65 171 630 369 721 559  69 332 603\n",
      " 399 142 183  76 729 813 880 429 348 802 612 107 329 101 344 765 931  68\n",
      " 316 456 166 566 671 168 119 567 560 791 505 109 541 834 291 314 575 846\n",
      " 584 732 605  39 419 915 350  72 940 897 261 122 206 833   7 221 955 616\n",
      " 346 147 660 224 354 459  31 472 311 812  14 889 604  95 307 774 904 933\n",
      " 927 659 712 881 858 769 242 294 522 728 736 525 632 733 479 752 259 633\n",
      " 493 768  74 384 702 925   6 112 116 534 891 855 640 944 887 941 223 476\n",
      " 673 651 225 824 270 794 363 487 421 840 557 241 345 104 159  59   9 282\n",
      " 201 418 939 817 460 136 650  98 257 628 141 497 146 954 857 530 163 318\n",
      "   1  29 140 446 896 775 707 619 131 152 820 730 526 912  90 777 611 622\n",
      " 397 133 265  47  30 788 425 556 785 258 480 638 682 699 913 719 531 410\n",
      " 949 620 903  93 527 143 911 338 251 864 100 236 839 477 646  52  28 302\n",
      " 442  92 935 325 738  83 562 458  85 576 402 685 655 207 209 876 692 194\n",
      " 593 698 586 341 228  10 169 267 222 295 435 546 408 145 392 103 376 333\n",
      " 510 502 694 767   2 174 200 890 499 766 863 365 770 790  55 188  89 457\n",
      " 814 452  97 517 829 537  32 953 374 739 193 610 564 601 714 811 298 367\n",
      " 657 274 102 153 907 908 377 613 198 202 139 589 724 110 816 789 847 764\n",
      " 614 818 952 233 331 455 808 879 328 428 762 723 563 695 400 900 342 164\n",
      " 158  78 430 324 957 249 606 644 625 937 924 176 129 431 727 521 520 279\n",
      " 283 667 269 796 760 691 595 591 461  42 503 305 285 216 826 592 600 918\n",
      " 292  24 809 684 943 144 165 804 705 240 156 172 583 759 701 231 662 356\n",
      " 800 554 718 512 301]\n",
      "Indices Test: [260 539 779 598 327  91 304 229 277 191  80 819 134 185 485 276 643 398\n",
      "  82 661 220 922 551 414 403 758 892 689  41  88 664 827 909 540 805 478\n",
      " 905 238 464 439  26 543 177  84 255 532 204 443 368 741 861 746 244 514\n",
      " 321 637 395  18 319 189 513 271 501 326 243 926 475 490 936  33 187 483\n",
      "  51 469 867 438 582 509 851 150 893 631 668 573 906 451 494 793 508 947\n",
      " 160 383 946 902 313 755 237 373 415 268 950 339 740 391 854 235 917  58\n",
      " 340 773   3 581 404 281 234 280  17 454 792 571 407 449 781  35  87 227\n",
      " 708 621 308 734 577  37 124 489   0 320 675 853 470 130 690 118  57 852\n",
      " 264 420 747 635 743 629  44 945  13 615  15 473  75 232 555  19 471 641\n",
      " 524 648 842   4 742 722 215 807 579 450 602 217  67 825 388 310 167  66\n",
      "  11 568 361 248 910 932 358 683 372 763 284  22 121 901 681 787 647 757\n",
      " 830 676 663 347 806  23 594 821 642 466 496 652 393 706 810 674 390 287\n",
      " 801 273 529 588 580 744 836 498 885 441 293 617 552 336 262 492 623 128\n",
      " 942 511 549 780 771 665  64 504 117 587 550 870 656 157 670 756 677  21\n",
      " 448 335 886 266 500 337  61 831 658 205 343 247 462 111 782 162  50  48\n",
      " 837 401 750 597 286 553 678 186 776 323 930 300  79 607 872 875 387]\n",
      "\n"
     ]
    }
   ],
   "source": [
    "# porcentaje de entradas para training\n",
    "porcentaje = 0.7\n",
    "\n",
    "# numero de particiones deseadas siguiendo la estrategia de VS\n",
    "numeroParticiones = 1\n",
    "\n",
    "# creamos una estrategia de Validacion Simple\n",
    "estrategiaBalloons = ep.ValidacionSimple(porcentaje,numeroParticiones)\n",
    "estrategiaTicTacToe = ep.ValidacionSimple(porcentaje,numeroParticiones)\n",
    "\n",
    "\n",
    "# obtencion de particiones\n",
    "particionesVS = estrategiaBalloons.creaParticiones(datasetBalloons)\n",
    "\n",
    "print(\" - - - - - - - Particionado Simple (balloons.data) - - - - - - - \")\n",
    "# print\n",
    "for particion in particionesVS:\n",
    "    particion.print()\n",
    "\n",
    "# obtencion de particiones\n",
    "particionesVS = estrategiaTicTacToe.creaParticiones(datasetTicTacToe)\n",
    "\n",
    "print(\"- - - - - - - Particionado Simple (tic-tac-toe.data)- - - - - - - \")\n",
    "# print\n",
    "for particion in particionesVS:\n",
    "    particion.print()\n"
   ]
  },
  {
   "cell_type": "markdown",
   "metadata": {},
   "source": [
    "### Estrategia Particionado (Validacion Cruzada)"
   ]
  },
  {
   "cell_type": "code",
   "execution_count": 255,
   "metadata": {
    "collapsed": false
   },
   "outputs": [
    {
     "name": "stdout",
     "output_type": "stream",
     "text": [
      "- - - - - - - Particionado K-fold (balloons.data) - - - - - - - - -\n",
      "Indices Train: [15  7  8  0 17  2 11 19 14  3 12  6  9 10 16  4]\n",
      "Indices Test: [ 5  1 13 18]\n",
      "\n",
      "Indices Train: [ 5  1 13 18 17  2 11 19 14  3 12  6  9 10 16  4]\n",
      "Indices Test: [15  7  8  0]\n",
      "\n",
      "Indices Train: [ 5  1 13 18 15  7  8  0 14  3 12  6  9 10 16  4]\n",
      "Indices Test: [17  2 11 19]\n",
      "\n",
      "Indices Train: [ 5  1 13 18 15  7  8  0 17  2 11 19  9 10 16  4]\n",
      "Indices Test: [14  3 12  6]\n",
      "\n",
      "Indices Train: [ 5  1 13 18 15  7  8  0 17  2 11 19 14  3 12  6]\n",
      "Indices Test: [ 9 10 16  4]\n",
      "\n",
      "- - - - - - -  Particionado K-fold (tic-tac-toe.data) - - - - - - - -\n",
      "print demasidado extenso\n"
     ]
    }
   ],
   "source": [
    "k = 5\n",
    "\n",
    "# creamos una estrategia de Validacion Cruzada\n",
    "estrategiaBalloons = ep.ValidacionCruzada(k)\n",
    "estrategiaTicTacToe = ep.ValidacionCruzada(k)\n",
    "\n",
    "# obtencion de particiones\n",
    "particionesVS = estrategiaBalloons.creaParticiones(datasetBalloons)\n",
    "\n",
    "print(\"- - - - - - - Particionado K-fold (balloons.data) - - - - - - - - -\")\n",
    "# print\n",
    "for particion in particionesVS:\n",
    "    particion.print()\n",
    "    \n",
    "# obtencion de particiones\n",
    "particionesVS = estrategiaTicTacToe.creaParticiones(datasetTicTacToe)\n",
    "\n",
    "print(\"- - - - - - -  Particionado K-fold (tic-tac-toe.data) - - - - - - - -\")\n",
    "# print demasiado extenso\n",
    "print(\"print demasidado extenso\")\n",
    "#for particion in particionesVS:\n",
    "#    particion.print()"
   ]
  },
  {
   "cell_type": "markdown",
   "metadata": {},
   "source": [
    "### Bootstrap"
   ]
  },
  {
   "cell_type": "code",
   "execution_count": 257,
   "metadata": {
    "collapsed": false,
    "scrolled": true
   },
   "outputs": [
    {
     "name": "stdout",
     "output_type": "stream",
     "text": [
      "- - - - - - - Particionado Bootstrap (balloons.data) - - - - - - - - -\n",
      "Indices Train: [19 18  7 11  4  9  2 17 16 12 14 17  6  4 10  8  2 12  1 16]\n",
      "Indices Test: [13  5 15  0  3]\n",
      "\n",
      "Indices Train: [ 7  5 17 10  2 18  0  1 19  1 10 16 14  7  2  0  6  2  1 19]\n",
      "Indices Test: [ 3  9 15 12 11  4  8 13]\n",
      "\n",
      "Indices Train: [ 9  0 17 10 14 13 12 14  1  6 17  2 11  1 10 13 10  0 14  3]\n",
      "Indices Test: [19  4  5  7  8 18 15 16]\n",
      "\n",
      "- - - - - - -  Particionado Bootstrap (tic-tac-toe.data) - - - - - - - -\n",
      "print demasidado extenso\n"
     ]
    }
   ],
   "source": [
    "numParticiones = 3\n",
    "# creamos una estrategia de Validacion Bootstrap\n",
    "estrategiaBalloons = ep.ValidacionBootstrap(numParticiones)\n",
    "estrategiaTicTacToe = ep.ValidacionBootstrap(numParticiones)\n",
    "\n",
    "\n",
    "# obtencion de particiones\n",
    "particiones = estrategiaBalloons.creaParticiones(datasetBalloons)\n",
    "\n",
    "print(\"- - - - - - - Particionado Bootstrap (balloons.data) - - - - - - - - -\")\n",
    "# print\n",
    "for particion in particiones:\n",
    "    particion.print()\n",
    "    \n",
    "# obtencion de particiones\n",
    "particiones = estrategiaTicTacToe.creaParticiones(datasetTicTacToe)\n",
    "\n",
    "print(\"- - - - - - -  Particionado Bootstrap (tic-tac-toe.data) - - - - - - - -\")\n",
    "# print demasiado extenso\n",
    "print(\"print demasidado extenso\")\n",
    "#for particion in particionesVS:\n",
    "#    particion.print()"
   ]
  },
  {
   "cell_type": "markdown",
   "metadata": {},
   "source": [
    "# Apartado 2\n",
    "### Naive Bayes"
   ]
  },
  {
   "cell_type": "code",
   "execution_count": 283,
   "metadata": {
    "collapsed": false
   },
   "outputs": [
    {
     "name": "stdout",
     "output_type": "stream",
     "text": [
      "- - - - - - - - - German.data - - - - - - - - - - \n",
      "Tasa errores:  [0.22, 0.3, 0.22, 0.26, 0.28, 0.22, 0.22]\n",
      "\n",
      "Tasa aciertos:   [0.78, 0.7, 0.78, 0.74, 0.72, 0.78, 0.78]\n",
      "\n",
      "Promedio error: 0.245714285714\n",
      "\n",
      "Desviación típica error: 0.0315581743348\n",
      "\n",
      "- - - - - - - - - TicTacToe.data - - - - - - - - - - \n",
      "Tasa errores:  [0.3617021276595745, 0.2765957446808511, 0.3404255319148936, 0.40425531914893614, 0.425531914893617, 0.2553191489361702, 0.3617021276595745]\n",
      "\n",
      "Tasa aciertos:   [0.6382978723404256, 0.7234042553191489, 0.6595744680851063, 0.5957446808510638, 0.574468085106383, 0.7446808510638299, 0.6382978723404256]\n",
      "\n",
      "Promedio error: 0.346504559271\n",
      "\n",
      "Desviación típica error: 0.0576707172067\n"
     ]
    }
   ],
   "source": [
    "# atrubutos estrategias particionado\n",
    "porcentaje = 0.95 #porcentaje de entradas para training\n",
    "numeroParticiones = 7 #numero de particiones deseadas siguiendo la estrategia de VS\n",
    "k = 5\n",
    "\n",
    "estrategiaGerman = ep.ValidacionSimple(porcentaje,numeroParticiones)\n",
    "estrategiaTicTacToe = ep.ValidacionSimple(porcentaje,numeroParticiones)\n",
    "\n",
    "#estrategia = ep.ValidacionCruzada(k)\n",
    "#estrategia = ep.ValidacionBootstrap(numeroParticiones)\n",
    "\n",
    "# clasificador Naive Bayes\n",
    "clasificador = cl.ClasificadorNaiveBayes()\n",
    "\n",
    "print(\"- - - - - - - - - German.data - - - - - - - - - - \")\n",
    "\n",
    "# errores\n",
    "porcentajesError = clasificador.validacion(estrategiaGerman,datasetGerman,clasificador)\n",
    "\n",
    "# aciertos\n",
    "porcentajesAciertos = []\n",
    "for pe in porcentajesError:\n",
    "    pa = 1-pe\n",
    "    porcentajesAciertos.append(pa)\n",
    "\n",
    "print(\"Tasa errores:  \" +str(porcentajesError))\n",
    "print(\"\\nTasa aciertos:   \" +str(porcentajesAciertos))\n",
    "print(\"\\nPromedio error: \"+str(np.mean(porcentajesError)))\n",
    "print(\"\\nDesviación típica error: \"+str(np.std(porcentajesError)) )\n",
    "\n",
    "print(\"\\n- - - - - - - - - TicTacToe.data - - - - - - - - - - \")\n",
    "\n",
    "# errores\n",
    "porcentajesError = clasificador.validacion(estrategiaTicTacToe,datasetTicTacToe,clasificador)\n",
    "\n",
    "# aciertos\n",
    "porcentajesAciertos = []\n",
    "for pe in porcentajesError:\n",
    "    pa = 1-pe\n",
    "    porcentajesAciertos.append(pa)\n",
    "    \n",
    "print(\"Tasa errores:  \" +str(porcentajesError))\n",
    "print(\"\\nTasa aciertos:   \" +str(porcentajesAciertos))\n",
    "print(\"\\nPromedio error: \"+str(np.mean(porcentajesError)))\n",
    "print(\"\\nDesviación típica error: \"+str(np.std(porcentajesError)) )\n",
    "\n"
   ]
  },
  {
   "cell_type": "markdown",
   "metadata": {},
   "source": [
    "# Apartado 3\n",
    "### Scikit-Learn"
   ]
  },
  {
   "cell_type": "code",
   "execution_count": 302,
   "metadata": {
    "collapsed": false
   },
   "outputs": [
    {
     "name": "stdout",
     "output_type": "stream",
     "text": [
      "Tasa errores:  [0.295, 0.305, 0.275, 0.285, 0.31, 0.3025, 0.26]\n",
      "\n",
      "Tasa aciertos:   [0.7050000000000001, 0.6950000000000001, 0.725, 0.7150000000000001, 0.69, 0.6975, 0.74]\n",
      "\n",
      "Promedio error: 0.290357142857\n",
      "\n",
      "Desviación típica error: 0.0167133699383\n",
      "Tasa errores:  [0.3307291666666667, 0.3333333333333333, 0.3541666666666667, 0.296875, 0.3203125, 0.3151041666666667, 0.3307291666666667]\n",
      "\n",
      "Tasa aciertos:   [0.6692708333333333, 0.6666666666666667, 0.6458333333333333, 0.703125, 0.6796875, 0.6848958333333333, 0.6692708333333333]\n",
      "\n",
      "Promedio error: 0.325892857143\n",
      "\n",
      "Desviación típica error: 0.0164365491327\n"
     ]
    }
   ],
   "source": [
    "numParticiones = 7\n",
    "\n",
    "# Transformamos la matriz de datos al formato Scikit-Learn\n",
    "datosScikit = []\n",
    "listScikit = []\n",
    "datos = [datasetGerman, datasetTicTacToe]\n",
    "\n",
    "# Reemplazo de atributos nominales por su codigo numerico\n",
    "for set in datos:\n",
    "    listScikit = []\n",
    "    for fila in set.datos:\n",
    "        x = []\n",
    "        for i,col in enumerate(fila):\n",
    "            if set.nominalAtributos[i] == True:\n",
    "                x.append(float(set.diccionarios[i][col]))\n",
    "            else:\n",
    "                x.append(float(col))            \n",
    "        listScikit.append(x)\n",
    "    datosScikit.append(np.array(listScikit))\n",
    "    \n",
    "\n",
    "for i, set in enumerate(datosScikit):\n",
    "    encAtributos = preprocessing.OneHotEncoder(categorical_features=datos[i].nominalAtributos[:-1],sparse=False)\n",
    "\n",
    "    # transfomracion al formato scikit-learn\n",
    "    X = encAtributos.fit_transform(set[:,:-1])\n",
    "    Y = set[:,-1]\n",
    "\n",
    "    # separamos en training test y training data segun la validacion simple \n",
    "    # especificamos test_size\n",
    "\n",
    "    porcentajesError = []\n",
    "    for j in range(numParticiones):\n",
    "        \n",
    "        X_train, X_test, y_train, y_test = train_test_split(X, Y, test_size=0.4, random_state=j)\n",
    "\n",
    "        # Naive Bayes\n",
    "        clf = GaussianNB()\n",
    "        clf.fit(X_train,y_train)\n",
    "        y_predicted = clf.predict(X_test)\n",
    "\n",
    "        # calculamos el porcentaje de acierto del clasificador\n",
    "        suma = 0.0\n",
    "        for k, pred in enumerate(y_predicted):\n",
    "            if pred != y_test[k]:\n",
    "                suma = 1 + suma\n",
    "\n",
    "        porcentajeError = suma / len(y_test)\n",
    "        porcentajesError.append(porcentajeError)\n",
    "\n",
    "    # aciertos\n",
    "    porcentajesAciertos = []\n",
    "    for pe in porcentajesError:\n",
    "        pa = 1-pe\n",
    "        porcentajesAciertos.append(pa)\n",
    "\n",
    "    # resultados\n",
    "    print(\"Tasa errores:  \" +str(porcentajesError))\n",
    "    print(\"\\nTasa aciertos:   \" +str(porcentajesAciertos))\n",
    "    print(\"\\nPromedio error: \"+str(np.mean(porcentajesError)))\n",
    "    print(\"\\nDesviación típica error: \"+str(np.std(porcentajesError)))\n",
    "        "
   ]
  },
  {
   "cell_type": "markdown",
   "metadata": {},
   "source": [
    "### Comparativa:\n",
    "Se pueden observar unos resultados parecidos. Hay una diferencia de 0.05 entre los promedios de error.\n",
    "Este resultado es el esperado ya que Naive Bayes es meramente un cálculo. El uso de distintas particiones es lo que produce la pequeña diferencia en los resultados. Si seleccionamos la misma partición el resultado es el mismo."
   ]
  },
  {
   "cell_type": "markdown",
   "metadata": {},
   "source": [
    "# Apartado 4\n",
    "### Evaluación de hipótesis mediante Análisis ROC"
   ]
  },
  {
   "cell_type": "code",
   "execution_count": 270,
   "metadata": {
    "collapsed": false
   },
   "outputs": [
    {
     "data": {
      "image/png": "[encoded data removed]",
      "text/plain": [
       "<matplotlib.figure.Figure at 0x10ea99f98>"
      ]
     },
     "metadata": {},
     "output_type": "display_data"
    }
   ],
   "source": [
    "# usaremos validacion simple para probar el analisis ROC\n",
    "\n",
    "porcentaje = 0.80\n",
    "numeroParticiones = 10\n",
    "\n",
    "estrategia = ep.ValidacionSimple(porcentaje,numeroParticiones)\n",
    "\n",
    "clasificador = cl.ClasificadorNaiveBayes()\n",
    "\n",
    "errores = clasificador.validacion(estrategia,dataset,clasificador)\n",
    "\n",
    "clasificador.plotROC()\n",
    "\n"
   ]
  },
  {
   "cell_type": "markdown",
   "metadata": {},
   "source": []
  }
 ],
 "metadata": {
  "kernelspec": {
   "display_name": "Python 3",
   "language": "python",
   "name": "python3"
  },
  "language_info": {
   "codemirror_mode": {
    "name": "ipython",
    "version": 3
   },
   "file_extension": ".py",
   "mimetype": "text/x-python",
   "name": "python",
   "nbconvert_exporter": "python",
   "pygments_lexer": "ipython3",
   "version": "3.6.0"
  }
 },
 "nbformat": 4,
 "nbformat_minor": 2
}
