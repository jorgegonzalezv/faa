{
 "cells": [
  {
   "cell_type": "code",
   "execution_count": 40,
   "metadata": {
    "collapsed": false
   },
   "outputs": [
    {
     "name": "stdout",
     "output_type": "stream",
     "text": [
      "The autoreload extension is already loaded. To reload it, use:\n",
      "  %reload_ext autoreload\n"
     ]
    }
   ],
   "source": [
    "%load_ext autoreload\n",
    "%autoreload 2\n",
    "\n",
    "import EstrategiaParticionado as ep\n",
    "import Datos as datos\n",
    "import Clasificador"
   ]
  },
  {
   "cell_type": "code",
   "execution_count": 36,
   "metadata": {
    "collapsed": false
   },
   "outputs": [
    {
     "name": "stdout",
     "output_type": "stream",
     "text": [
      "\n",
      "\n",
      " - - - - - - - - - - - - - - - - - - - - - - - - - - - - - - \n",
      "Indices Train: [16 11  0  4  7 14 13 19 12 17  8  3 15  2  1]\n",
      "Indices Test: [ 9  6 18 10  5]\n",
      "\n",
      "Datos train:\n",
      "[['PURPLE' 'LARGE' 'STRETCH' 'ADULT' 'T']\n",
      " ['PURPLE' 'SMALL' 'STRETCH' 'ADULT' 'T']\n",
      " ['YELLOW' 'SMALL' 'STRETCH' 'ADULT' 'T']\n",
      " ['YELLOW' 'SMALL' 'DIP' 'CHILD' 'F']\n",
      " ['YELLOW' 'LARGE' 'STRETCH' 'CHILD' 'F']\n",
      " ['PURPLE' 'SMALL' 'DIP' 'CHILD' 'F']\n",
      " ['PURPLE' 'SMALL' 'DIP' 'ADULT' 'F']\n",
      " ['PURPLE' 'LARGE' 'DIP' 'CHILD' 'F']\n",
      " ['PURPLE' 'SMALL' 'STRETCH' 'CHILD' 'F']\n",
      " ['PURPLE' 'LARGE' 'STRETCH' 'CHILD' 'F']\n",
      " ['YELLOW' 'LARGE' 'DIP' 'ADULT' 'F']\n",
      " ['YELLOW' 'SMALL' 'DIP' 'ADULT' 'F']\n",
      " ['PURPLE' 'LARGE' 'STRETCH' 'ADULT' 'T']\n",
      " ['YELLOW' 'SMALL' 'STRETCH' 'CHILD' 'F']\n",
      " ['YELLOW' 'SMALL' 'STRETCH' 'ADULT' 'T']]\n",
      "Datos test:\n",
      "[['YELLOW' 'LARGE' 'DIP' 'CHILD' 'F']\n",
      " ['YELLOW' 'LARGE' 'STRETCH' 'ADULT' 'T']\n",
      " ['PURPLE' 'LARGE' 'DIP' 'ADULT' 'F']\n",
      " ['PURPLE' 'SMALL' 'STRETCH' 'ADULT' 'T']\n",
      " ['YELLOW' 'LARGE' 'STRETCH' 'ADULT' 'T']]\n",
      "\n",
      "\n",
      " - - - - - - - - - - - - - - - - - - - - - - - - - - - - - - \n",
      "Indices Train: [ 9  6 18 10  5 14 13 19 12 17  8  3 15  2  1]\n",
      "Indices Test: [16 11  0  4  7]\n",
      "\n",
      "Datos train:\n",
      "[['YELLOW' 'LARGE' 'DIP' 'CHILD' 'F']\n",
      " ['YELLOW' 'LARGE' 'STRETCH' 'ADULT' 'T']\n",
      " ['PURPLE' 'LARGE' 'DIP' 'ADULT' 'F']\n",
      " ['PURPLE' 'SMALL' 'STRETCH' 'ADULT' 'T']\n",
      " ['YELLOW' 'LARGE' 'STRETCH' 'ADULT' 'T']\n",
      " ['PURPLE' 'SMALL' 'DIP' 'CHILD' 'F']\n",
      " ['PURPLE' 'SMALL' 'DIP' 'ADULT' 'F']\n",
      " ['PURPLE' 'LARGE' 'DIP' 'CHILD' 'F']\n",
      " ['PURPLE' 'SMALL' 'STRETCH' 'CHILD' 'F']\n",
      " ['PURPLE' 'LARGE' 'STRETCH' 'CHILD' 'F']\n",
      " ['YELLOW' 'LARGE' 'DIP' 'ADULT' 'F']\n",
      " ['YELLOW' 'SMALL' 'DIP' 'ADULT' 'F']\n",
      " ['PURPLE' 'LARGE' 'STRETCH' 'ADULT' 'T']\n",
      " ['YELLOW' 'SMALL' 'STRETCH' 'CHILD' 'F']\n",
      " ['YELLOW' 'SMALL' 'STRETCH' 'ADULT' 'T']]\n",
      "Datos test:\n",
      "[['PURPLE' 'LARGE' 'STRETCH' 'ADULT' 'T']\n",
      " ['PURPLE' 'SMALL' 'STRETCH' 'ADULT' 'T']\n",
      " ['YELLOW' 'SMALL' 'STRETCH' 'ADULT' 'T']\n",
      " ['YELLOW' 'SMALL' 'DIP' 'CHILD' 'F']\n",
      " ['YELLOW' 'LARGE' 'STRETCH' 'CHILD' 'F']]\n",
      "\n",
      "\n",
      " - - - - - - - - - - - - - - - - - - - - - - - - - - - - - - \n",
      "Indices Train: [ 9  6 18 10  5 16 11  0  4  7  8  3 15  2  1]\n",
      "Indices Test: [14 13 19 12 17]\n",
      "\n",
      "Datos train:\n",
      "[['YELLOW' 'LARGE' 'DIP' 'CHILD' 'F']\n",
      " ['YELLOW' 'LARGE' 'STRETCH' 'ADULT' 'T']\n",
      " ['PURPLE' 'LARGE' 'DIP' 'ADULT' 'F']\n",
      " ['PURPLE' 'SMALL' 'STRETCH' 'ADULT' 'T']\n",
      " ['YELLOW' 'LARGE' 'STRETCH' 'ADULT' 'T']\n",
      " ['PURPLE' 'LARGE' 'STRETCH' 'ADULT' 'T']\n",
      " ['PURPLE' 'SMALL' 'STRETCH' 'ADULT' 'T']\n",
      " ['YELLOW' 'SMALL' 'STRETCH' 'ADULT' 'T']\n",
      " ['YELLOW' 'SMALL' 'DIP' 'CHILD' 'F']\n",
      " ['YELLOW' 'LARGE' 'STRETCH' 'CHILD' 'F']\n",
      " ['YELLOW' 'LARGE' 'DIP' 'ADULT' 'F']\n",
      " ['YELLOW' 'SMALL' 'DIP' 'ADULT' 'F']\n",
      " ['PURPLE' 'LARGE' 'STRETCH' 'ADULT' 'T']\n",
      " ['YELLOW' 'SMALL' 'STRETCH' 'CHILD' 'F']\n",
      " ['YELLOW' 'SMALL' 'STRETCH' 'ADULT' 'T']]\n",
      "Datos test:\n",
      "[['PURPLE' 'SMALL' 'DIP' 'CHILD' 'F']\n",
      " ['PURPLE' 'SMALL' 'DIP' 'ADULT' 'F']\n",
      " ['PURPLE' 'LARGE' 'DIP' 'CHILD' 'F']\n",
      " ['PURPLE' 'SMALL' 'STRETCH' 'CHILD' 'F']\n",
      " ['PURPLE' 'LARGE' 'STRETCH' 'CHILD' 'F']]\n",
      "\n",
      "\n",
      " - - - - - - - - - - - - - - - - - - - - - - - - - - - - - - \n",
      "Indices Train: [ 9  6 18 10  5 16 11  0  4  7 14 13 19 12 17]\n",
      "Indices Test: [ 8  3 15  2  1]\n",
      "\n",
      "Datos train:\n",
      "[['YELLOW' 'LARGE' 'DIP' 'CHILD' 'F']\n",
      " ['YELLOW' 'LARGE' 'STRETCH' 'ADULT' 'T']\n",
      " ['PURPLE' 'LARGE' 'DIP' 'ADULT' 'F']\n",
      " ['PURPLE' 'SMALL' 'STRETCH' 'ADULT' 'T']\n",
      " ['YELLOW' 'LARGE' 'STRETCH' 'ADULT' 'T']\n",
      " ['PURPLE' 'LARGE' 'STRETCH' 'ADULT' 'T']\n",
      " ['PURPLE' 'SMALL' 'STRETCH' 'ADULT' 'T']\n",
      " ['YELLOW' 'SMALL' 'STRETCH' 'ADULT' 'T']\n",
      " ['YELLOW' 'SMALL' 'DIP' 'CHILD' 'F']\n",
      " ['YELLOW' 'LARGE' 'STRETCH' 'CHILD' 'F']\n",
      " ['PURPLE' 'SMALL' 'DIP' 'CHILD' 'F']\n",
      " ['PURPLE' 'SMALL' 'DIP' 'ADULT' 'F']\n",
      " ['PURPLE' 'LARGE' 'DIP' 'CHILD' 'F']\n",
      " ['PURPLE' 'SMALL' 'STRETCH' 'CHILD' 'F']\n",
      " ['PURPLE' 'LARGE' 'STRETCH' 'CHILD' 'F']]\n",
      "Datos test:\n",
      "[['YELLOW' 'LARGE' 'DIP' 'ADULT' 'F']\n",
      " ['YELLOW' 'SMALL' 'DIP' 'ADULT' 'F']\n",
      " ['PURPLE' 'LARGE' 'STRETCH' 'ADULT' 'T']\n",
      " ['YELLOW' 'SMALL' 'STRETCH' 'CHILD' 'F']\n",
      " ['YELLOW' 'SMALL' 'STRETCH' 'ADULT' 'T']]\n"
     ]
    }
   ],
   "source": [
    "dat1 = datos.Datos(nombreFichero=\"../datos/balloons.data\")\n",
    "k = 4 #k-cross validation KCV\n",
    "\n",
    "#creamos una estrategia de Validacion Simple\n",
    "kcv = ep.ValidacionCruzada(k)\n",
    "\n",
    "#obtencion de particiones\n",
    "particionesKCV = kcv.creaParticiones(dat1)\n",
    "\n",
    "#debbug\n",
    "for particion in particionesKCV:\n",
    "    print(\"\\n\\n - - - - - - - - - - - - - - - - - - - - - - - - - - - - - - \")\n",
    "    particion.print()\n",
    "    print(\"Datos train:\")\n",
    "    print(dat1.extraeDatos(particion.indicesTrain))\n",
    "    print(\"Datos test:\")\n",
    "    print(dat1.extraeDatos(particion.indicesTest))\n",
    "\n",
    "\n"
   ]
  },
  {
   "cell_type": "code",
   "execution_count": 5,
   "metadata": {
    "collapsed": false
   },
   "outputs": [
    {
     "name": "stdout",
     "output_type": "stream",
     "text": [
      "Indices Train: [ 4  9  0  2 11 12  6  1 10 16 19 13]\n",
      "Indices Test: [15 18  8  7  3 14  5 17]\n",
      "\n",
      "Indices Train: [ 1  6 17 15  9  4 14  0 16 10  7  2]\n",
      "Indices Test: [11 18 13 12  8 19  3  5]\n",
      "\n",
      "Indices Train: [ 6 14  3  1 15  4  8 10 17 13  5  9]\n",
      "Indices Test: [ 0 12  7 16  2 11 18 19]\n",
      "\n",
      "Indices Train: [18  5 12  6  3  0  2  9 14 19  1  7]\n",
      "Indices Test: [10  8 16 11 17  4 15 13]\n",
      "\n",
      "Indices Train: [16  3  5 19 17  0  9  7 12  2 10 11]\n",
      "Indices Test: [ 1 15 18 13  8  6 14  4]\n",
      "\n",
      "Indices Train: [ 4 16  7  9  5 14 17 11  8  2  6 19]\n",
      "Indices Test: [18 10 13  0 12  3 15  1]\n",
      "\n"
     ]
    }
   ],
   "source": [
    "dat1 = datos.Datos(nombreFichero=\"../datos/balloons.data\")\n",
    "#dat1.printDatos()\n",
    "\n",
    "porcentaje = 0.6 #porcentaje de entradas para training\n",
    "numeroParticiones = 6 #numero de particiones deseadas siguiendo la estrategia de VS\n",
    "\n",
    "#creamos una estrategia de Validacion Simple\n",
    "vs = ep.ValidacionSimple(porcentaje,numeroParticiones)\n",
    "\n",
    "#obtencion de particiones\n",
    "particionesVS = vs.creaParticiones(dat1)\n",
    "\n",
    "#debbug\n",
    "for particion in particionesVS:\n",
    "    particion.print()\n",
    "\n",
    "\n",
    "\n",
    "\n"
   ]
  },
  {
   "cell_type": "code",
   "execution_count": null,
   "metadata": {
    "collapsed": true
   },
   "outputs": [],
   "source": [
    "dataset = datos.Datos(nombreFichero=\"../datos/balloons.data\")\n",
    "\n",
    "k = 6 #k-cross validation KCV\n",
    "estrategia=ep.ValidacionCruzada(k)\n",
    "\n",
    "clasificador = Clasificador.ClasificadorNaiveBayes()\n",
    "\n",
    "\n",
    "#clasificador=Clasificador.ClasificadorNaiveBayes(...) \n",
    "#errores=clasificador.validacion(estrategia,dataset,clasificador)\n"
   ]
  }
 ],
 "metadata": {
  "kernelspec": {
   "display_name": "Python 3",
   "language": "python",
   "name": "python3"
  },
  "language_info": {
   "codemirror_mode": {
    "name": "ipython",
    "version": 3
   },
   "file_extension": ".py",
   "mimetype": "text/x-python",
   "name": "python",
   "nbconvert_exporter": "python",
   "pygments_lexer": "ipython3",
   "version": "3.6.0"
  }
 },
 "nbformat": 4,
 "nbformat_minor": 2
}
